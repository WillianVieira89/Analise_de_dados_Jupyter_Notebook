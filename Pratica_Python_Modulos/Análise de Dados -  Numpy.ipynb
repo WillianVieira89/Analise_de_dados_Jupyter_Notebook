{
 "cells": [
  {
   "cell_type": "markdown",
   "id": "446fe033",
   "metadata": {},
   "source": [
    "Estudo sobre Análise de Dados"
   ]
  },
  {
   "cell_type": "code",
   "execution_count": 46,
   "id": "926bc8d2",
   "metadata": {},
   "outputs": [],
   "source": [
    "import numpy as np"
   ]
  },
  {
   "cell_type": "code",
   "execution_count": 47,
   "id": "8f2ac046",
   "metadata": {},
   "outputs": [
    {
     "name": "stdout",
     "output_type": "stream",
     "text": [
      "[12 34 26 18 10]\n",
      "<class 'numpy.ndarray'>\n"
     ]
    }
   ],
   "source": [
    "# cria uma matriz unidimensional\n",
    "mt = np.array([12,34,26,18,10])\n",
    "print(mt)\n",
    "print(type(mt))"
   ]
  },
  {
   "cell_type": "code",
   "execution_count": 48,
   "id": "442ac558",
   "metadata": {},
   "outputs": [
    {
     "name": "stdout",
     "output_type": "stream",
     "text": [
      "[1. 2. 3.]\n",
      "<class 'numpy.ndarray'>\n",
      "[1 2 3]\n",
      "<class 'numpy.ndarray'>\n"
     ]
    }
   ],
   "source": [
    "# cria uma array com float\n",
    "mtfloat = np.array([1, 2, 3], dtype = np.float64)\n",
    "print(mtfloat)\n",
    "print(type(mtfloat))\n",
    "\n",
    "# cria uma array com inteiro\n",
    "mtint = np.array([1, 2, 3], dtype = np.int32)\n",
    "print(mtint)\n",
    "print(type(mtint))"
   ]
  },
  {
   "cell_type": "code",
   "execution_count": 49,
   "id": "8b017bc8",
   "metadata": {},
   "outputs": [
    {
     "name": "stdout",
     "output_type": "stream",
     "text": [
      "[ 1.4     3.6    -5.1     9.42    4.9999]\n",
      "[ 1  3 -5  9  4]\n"
     ]
    }
   ],
   "source": [
    "# mudar o tipo de array\n",
    "# Podemos transformar tipos de dados de arrays\n",
    "\n",
    "mtnew = np.array([1.4, 3.6, -5.1, 9.42, 4.9999]) \n",
    "print(mtnew)\n",
    "\n",
    "# Quando transformamos de float para int os valores são truncados\n",
    "mtnewint = mtnew.astype(np.int32)\n",
    "print(mtnewint)"
   ]
  },
  {
   "cell_type": "code",
   "execution_count": 50,
   "id": "d349fdb8",
   "metadata": {},
   "outputs": [
    {
     "name": "stdout",
     "output_type": "stream",
     "text": [
      "[1 2 3 4]\n",
      "[1. 2. 3. 4.]\n"
     ]
    }
   ],
   "source": [
    "# Podemos fazer o inverso também\n",
    "mt5 = np.array([1, 2, 3, 4])\n",
    "print(mt5)\n",
    "mt6 = mt5.astype(float)\n",
    "print(mt6)"
   ]
  },
  {
   "cell_type": "code",
   "execution_count": 51,
   "id": "4cd5b709",
   "metadata": {},
   "outputs": [
    {
     "name": "stdout",
     "output_type": "stream",
     "text": [
      "[[ 7  2 23]\n",
      " [12 27  4]\n",
      " [ 5 34 23]]\n"
     ]
    }
   ],
   "source": [
    "# Mais de uma dimensão\n",
    "# Cria uma matriz bidimensional\n",
    "\n",
    "mt7 = np.array([[7, 2, 23], [12, 27, 4], [5, 34, 23]])\n",
    "print(mt7)\n"
   ]
  },
  {
   "cell_type": "code",
   "execution_count": 52,
   "id": "6f03f6d0",
   "metadata": {},
   "outputs": [
    {
     "name": "stdout",
     "output_type": "stream",
     "text": [
      "[[         0 1072693248]\n",
      " [         0 1073741824]\n",
      " [         0 1074266112]]\n",
      "------------------------------------------------\n",
      "[[0. 0. 0.]\n",
      " [0. 0. 0.]\n",
      " [0. 0. 0.]\n",
      " [0. 0. 0.]]\n",
      "------------------------------------------------\n",
      "[[1. 1. 1. 1. 1. 1. 1.]\n",
      " [1. 1. 1. 1. 1. 1. 1.]\n",
      " [1. 1. 1. 1. 1. 1. 1.]\n",
      " [1. 1. 1. 1. 1. 1. 1.]\n",
      " [1. 1. 1. 1. 1. 1. 1.]]\n",
      "------------------------------------------------\n",
      "[[1. 0. 0. 0. 0.]\n",
      " [0. 1. 0. 0. 0.]\n",
      " [0. 0. 1. 0. 0.]\n",
      " [0. 0. 0. 1. 0.]\n",
      " [0. 0. 0. 0. 1.]]\n"
     ]
    }
   ],
   "source": [
    "# cria arrays vazio tipificados\n",
    "# empty significa que não são inicializados, não que são vazios\n",
    "\n",
    "vazio = np.empty([3, 2], dtype = int)\n",
    "print(vazio)\n",
    "print('------------------------------------------------')\n",
    "\n",
    "# Cria uma matriz 4x3 com valores zero - matriz 4x3 são 4 linhas e 3 colunas\n",
    "zeros = np.zeros([4, 3])\n",
    "print(zeros)\n",
    "print('------------------------------------------------')\n",
    "\n",
    "# Cria uma matriz 5x7 com valores igual a 1 - matriz 5x7 são 5 linhas e 7 colunas\n",
    "um = np.ones([5, 7])\n",
    "print(um)\n",
    "print('------------------------------------------------')\n",
    "\n",
    "# Cria uma matriz quadrada com diagonal principal com valores 1 e os outros valores zero\n",
    "diagonal = np.eye(5)\n",
    "print(diagonal)"
   ]
  },
  {
   "cell_type": "code",
   "execution_count": 53,
   "id": "4737d87a",
   "metadata": {},
   "outputs": [
    {
     "name": "stdout",
     "output_type": "stream",
     "text": [
      "[0.92960101 0.8940747  0.97223931 0.93899349 0.29478223]\n",
      "---------------------------------------------------\n",
      "[-0.49449949 -1.64853568  0.4872542   0.16291581 -0.03569007]\n",
      "---------------------------------------------------\n",
      "[[2.41294598 6.51196225 4.92710561 0.50968515]\n",
      " [6.31601478 0.49848379 4.4286178  2.59944445]\n",
      " [8.37098541 8.30347336 8.88152629 3.57297483]]\n",
      "---------------------------------------------------\n"
     ]
    }
   ],
   "source": [
    "# valores aleatórios entre zero e um\n",
    "\n",
    "ale = np.random.random((5))\n",
    "print(ale)\n",
    "print('---------------------------------------------------')\n",
    "\n",
    "# valores aleatórios distribuição normal contendo negativos\n",
    "\n",
    "ale2 = np.random.randn((5))\n",
    "print(ale2)\n",
    "print('---------------------------------------------------')\n",
    "\n",
    "# valores aleatórios numa matriz 3 x 4\n",
    "\n",
    "ale3 = (10*np.random.random((3,4)))\n",
    "print(ale3)\n",
    "print('---------------------------------------------------')"
   ]
  },
  {
   "cell_type": "code",
   "execution_count": 54,
   "id": "b13c46e0",
   "metadata": {},
   "outputs": [
    {
     "name": "stdout",
     "output_type": "stream",
     "text": [
      "[0.51182162 0.9504637  0.14415961]\n",
      "[[8 9 2 3]\n",
      " [8 4 2 8]\n",
      " [2 4 6 5]]\n"
     ]
    }
   ],
   "source": [
    "# Outra forma de gerar números aleatórios\n",
    "# Uso de sementes\n",
    "\n",
    "gnr = np.random.default_rng(1) # (1) --> semente\n",
    "ale5 = gnr.random(3)\n",
    "print(ale5)\n",
    "\n",
    "# gerar números aleatórios inteiros\n",
    "\n",
    "ale6 = gnr.integers(10, size=(3,4))\n",
    "print(ale6)"
   ]
  },
  {
   "cell_type": "code",
   "execution_count": 55,
   "id": "c1a8314e",
   "metadata": {},
   "outputs": [
    {
     "name": "stdout",
     "output_type": "stream",
     "text": [
      "[1 2 3 4 5 6 7 8 9]\n"
     ]
    }
   ],
   "source": [
    "# unique remove repetições\n",
    "\n",
    "j = np.array([1, 2, 3, 4, 5, 2, 3, 6, 7, 8, 9, 6, 7, 8, 9])\n",
    "j = np.unique(j)\n",
    "print(j)"
   ]
  },
  {
   "cell_type": "code",
   "execution_count": 56,
   "id": "0e1576ce",
   "metadata": {},
   "outputs": [
    {
     "name": "stdout",
     "output_type": "stream",
     "text": [
      "[[17 22 43]\n",
      " [27 25 14]\n",
      " [15 24 32]]\n",
      "22\n",
      "(3, 3)\n"
     ]
    }
   ],
   "source": [
    "# Funções especificas \n",
    "\n",
    "# Cria a matriz bidimensional k\n",
    "k = np.array([[17,22,43], [27,25,14],[15,24,32]])\n",
    "\n",
    "# Mostra a matriz k\n",
    "print(k)\n",
    "\n",
    "# Mostra um elemento especifico da matriz k\n",
    "print(k[0][1])\n",
    "\n",
    "# Mostra o tamanho da matriz\n",
    "print(k.shape)"
   ]
  },
  {
   "cell_type": "code",
   "execution_count": 57,
   "id": "a030f104",
   "metadata": {
    "scrolled": false
   },
   "outputs": [
    {
     "name": "stdout",
     "output_type": "stream",
     "text": [
      "43\n",
      "14\n",
      "219\n",
      "24.333333333333332\n",
      "8.615231988880057\n"
     ]
    }
   ],
   "source": [
    "# Funções Matemáticas\n",
    "\n",
    "# Mostra o maior valor da matriz k\n",
    "print(k.max())\n",
    "\n",
    "# Mostra o menor valor da matriz k\n",
    "print(k.min())\n",
    "\n",
    "# Mostra a soma dos valores da matriz k\n",
    "print(k.sum())\n",
    "\n",
    "# Mostra o valor da média dos valores da matriz k\n",
    "print(k.mean())\n",
    "\n",
    "# Mostra o valor do desvio padrão (standard deviation) dos valores da matriz k\n",
    "print(k.std())\n"
   ]
  },
  {
   "cell_type": "code",
   "execution_count": 58,
   "id": "e421da77",
   "metadata": {},
   "outputs": [
    {
     "name": "stdout",
     "output_type": "stream",
     "text": [
      "[1. 2. 3. 4. 5. 6.]\n",
      "[2.71828183e+00 5.45981500e+01 8.10308393e+03 8.88611052e+06\n",
      " 7.20048993e+10 4.31123155e+15]\n"
     ]
    }
   ],
   "source": [
    "# Funções Universais, aplicadas a todos os elementos\n",
    "\n",
    "# Mostra o valor da raiz quadrada de todos os elementos\n",
    "k1 = np.array([1, 4, 9, 16, 25, 36])\n",
    "print(np.sqrt(k1))\n",
    "\n",
    "# Mostra o valor do exponencial de todos elementos\n",
    "print(np.exp(k1))\n"
   ]
  },
  {
   "cell_type": "code",
   "execution_count": 59,
   "id": "85e70b8d",
   "metadata": {},
   "outputs": [
    {
     "name": "stdout",
     "output_type": "stream",
     "text": [
      "2\n",
      "---------------------------------------------\n",
      "[1 2]\n",
      "---------------------------------------------\n",
      "[2 3 4 5 6]\n",
      "---------------------------------------------\n",
      "[4 5 6]\n"
     ]
    }
   ],
   "source": [
    "# Extração de elementos\n",
    "\n",
    "m = np.array([1, 2, 3, 4, 5, 6])\n",
    "print(m[1])\n",
    "print('---------------------------------------------')\n",
    "\n",
    "# Mostra a array criado a partir da posição 0, dois elementos\n",
    "print(m[0:2])\n",
    "print('---------------------------------------------')\n",
    "\n",
    "# Mostra o array criado a partir da posição index 1\n",
    "# até todo o restante do array\n",
    "print(m[1:])\n",
    "print('---------------------------------------------')\n",
    "\n",
    "# Mostra o array criado a partir da antepenúltima\n",
    "# posição até o final\n",
    "print(m[-3:])\n"
   ]
  },
  {
   "cell_type": "code",
   "execution_count": 60,
   "id": "9e17de46",
   "metadata": {},
   "outputs": [
    {
     "name": "stdout",
     "output_type": "stream",
     "text": [
      "[[4 5]\n",
      " [6 1]\n",
      " [7 4]]\n",
      "-----------------------------------------------------\n",
      "[4 5]\n",
      "-----------------------------------------------------\n",
      "[6 1]\n",
      "-----------------------------------------------------\n",
      "[7 4]\n",
      "-----------------------------------------------------\n",
      "[4 6 7]\n",
      "-----------------------------------------------------\n",
      "[5 1 4]\n",
      "-----------------------------------------------------\n"
     ]
    }
   ],
   "source": [
    "# Extração de linhas e colunas\n",
    "\n",
    "l = np.array([[4, 5], [6, 1], [7, 4]])\n",
    "print(l)\n",
    "print('-----------------------------------------------------')\n",
    "\n",
    "# Primeira linha, todas as colunas\n",
    "l_linha_1 = l[0, :]\n",
    "print(l_linha_1)\n",
    "print('-----------------------------------------------------')\n",
    "\n",
    "# Segunda linha, todas as colunas\n",
    "l_linha_2 = l[1, :]\n",
    "print(l_linha_2)\n",
    "print('-----------------------------------------------------')\n",
    "\n",
    "# Terceira linha, todas as colunas\n",
    "l_linha_3 = l[2, :]\n",
    "print(l_linha_3)\n",
    "print('-----------------------------------------------------')\n",
    "\n",
    "# Todas as linhas, primeira coluna\n",
    "l_coluna_1 = l[:, 0]\n",
    "print(l_coluna_1)\n",
    "print('-----------------------------------------------------')\n",
    "\n",
    "# Todas as linhas, segunda coluna\n",
    "l_coluna_2 = l[:, 1]\n",
    "print(l_coluna_2)\n",
    "print('-----------------------------------------------------')"
   ]
  },
  {
   "cell_type": "code",
   "execution_count": 61,
   "id": "af0b8f51",
   "metadata": {},
   "outputs": [
    {
     "name": "stdout",
     "output_type": "stream",
     "text": [
      "[[2 3]\n",
      " [4 5]]\n",
      "-----------------------------------------------------\n",
      "[[2 3]\n",
      " [4 5]]\n",
      "-----------------------------------------------------\n",
      "[[3 3]\n",
      " [5 5]\n",
      " [7 7]]\n",
      "-----------------------------------------------------\n"
     ]
    }
   ],
   "source": [
    "# Adição e multiplicação de matrizes\n",
    "\n",
    "n = np.array([[1, 2], [3, 4]])\n",
    "o = np.array([[1, 1], [1, 1]])\n",
    "\n",
    "# Adição de matrizes\n",
    "res1 = n + o\n",
    "print(res1)\n",
    "print('-----------------------------------------------------')\n",
    "\n",
    "# Multiplicação de matrizes com matrizes iguais\n",
    "print(res2)\n",
    "print('-----------------------------------------------------')\n",
    "\n",
    "# Multiplicação de matrizes com matrizes diferentes\n",
    "p = np.array([[1, 2], [3, 4], [5, 6]])\n",
    "q = np.array([[2, 1]])\n",
    "print(p + q)\n",
    "print('-----------------------------------------------------')"
   ]
  },
  {
   "cell_type": "code",
   "execution_count": 62,
   "id": "cb0b8960",
   "metadata": {},
   "outputs": [
    {
     "name": "stdout",
     "output_type": "stream",
     "text": [
      "[[ 0  1  2  3  4]\n",
      " [ 5  6  7  8  9]\n",
      " [10 11 12 13 14]]\n",
      "-----------------------------------------------------\n",
      "[[ 0  5 10]\n",
      " [ 1  6 11]\n",
      " [ 2  7 12]\n",
      " [ 3  8 13]\n",
      " [ 4  9 14]]\n",
      "-----------------------------------------------------\n",
      "[[ 0  5 10]\n",
      " [ 1  6 11]\n",
      " [ 2  7 12]\n",
      " [ 3  8 13]\n",
      " [ 4  9 14]]\n"
     ]
    }
   ],
   "source": [
    "# Transposição, rearranja um conjunto de 15 elementos de 0 a 14\n",
    "# em 3 linhas e 5 colunas\n",
    "\n",
    "f = np.arange(15).reshape((3, 5))\n",
    "print(f)\n",
    "print('-----------------------------------------------------')\n",
    "\n",
    "# Transforma uma matriz 3x5, em uma matriz 5x3\n",
    "s = f.T\n",
    "print(s)\n",
    "print('-----------------------------------------------------')\n",
    "\n",
    "# Outra forma de fazer essa transposição\n",
    "\n",
    "s = f.transpose((1,0))\n",
    "print(s)"
   ]
  },
  {
   "cell_type": "code",
   "execution_count": 63,
   "id": "a6a6f5e5",
   "metadata": {},
   "outputs": [
    {
     "name": "stdout",
     "output_type": "stream",
     "text": [
      "[[-0.48046048  0.06737429  2.20905034  1.43594464]\n",
      " [-0.36266094 -0.20861755 -0.67394787  1.58406945]\n",
      " [ 1.60816059 -0.00547364 -0.9372063  -0.50836519]\n",
      " [ 0.26689399  0.31950004 -0.32838995  0.87554548]]\n",
      "-----------------------------------------------------\n",
      "[[False  True  True  True]\n",
      " [False False False  True]\n",
      " [ True False False False]\n",
      " [ True  True False  True]]\n",
      "-----------------------------------------------------\n",
      "[[-1  1  1  1]\n",
      " [-1 -1 -1  1]\n",
      " [ 1 -1 -1 -1]\n",
      " [ 1  1 -1  1]]\n"
     ]
    }
   ],
   "source": [
    "# Expressões lógicas\n",
    "# Usando where\n",
    "\n",
    "# Criando matriz com valores aleatórios positivos e negativos\n",
    "v = np.random.randn(4, 4)\n",
    "print(v)\n",
    "print('-----------------------------------------------------')\n",
    "\n",
    "# Criando matriz com valores booleanos baseado na array v\n",
    "x = (v > 0)\n",
    "print(x)\n",
    "print('-----------------------------------------------------')\n",
    "\n",
    "# Criando matriz com valores -1 e 1 baseados nos valores da array x\n",
    "z = np.where(x > 0, 1, -1)\n",
    "print(z)"
   ]
  }
 ],
 "metadata": {
  "kernelspec": {
   "display_name": "Python 3 (ipykernel)",
   "language": "python",
   "name": "python3"
  },
  "language_info": {
   "codemirror_mode": {
    "name": "ipython",
    "version": 3
   },
   "file_extension": ".py",
   "mimetype": "text/x-python",
   "name": "python",
   "nbconvert_exporter": "python",
   "pygments_lexer": "ipython3",
   "version": "3.9.13"
  },
  "varInspector": {
   "cols": {
    "lenName": 16,
    "lenType": 16,
    "lenVar": 40
   },
   "kernels_config": {
    "python": {
     "delete_cmd_postfix": "",
     "delete_cmd_prefix": "del ",
     "library": "var_list.py",
     "varRefreshCmd": "print(var_dic_list())"
    },
    "r": {
     "delete_cmd_postfix": ") ",
     "delete_cmd_prefix": "rm(",
     "library": "var_list.r",
     "varRefreshCmd": "cat(var_dic_list()) "
    }
   },
   "position": {
    "height": "144.45px",
    "left": "1148.2px",
    "right": "20px",
    "top": "121px",
    "width": "350px"
   },
   "types_to_exclude": [
    "module",
    "function",
    "builtin_function_or_method",
    "instance",
    "_Feature"
   ],
   "window_display": false
  }
 },
 "nbformat": 4,
 "nbformat_minor": 5
}
