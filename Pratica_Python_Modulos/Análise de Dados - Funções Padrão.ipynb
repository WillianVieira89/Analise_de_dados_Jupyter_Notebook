{
 "cells": [
  {
   "cell_type": "markdown",
   "id": "78c84789",
   "metadata": {},
   "source": [
    "Análise de Dados - Funções Padrão"
   ]
  },
  {
   "cell_type": "code",
   "execution_count": 10,
   "id": "f82e730c",
   "metadata": {},
   "outputs": [
    {
     "name": "stdout",
     "output_type": "stream",
     "text": [
      "200\n",
      "Maior valor:  45\n",
      "Menor valor:  1\n",
      "Soma:  108\n",
      "Arredondamento:  2\n"
     ]
    }
   ],
   "source": [
    "# Funções internas\n",
    "print(abs(-200))\n",
    "lst = [1,2,30,30,45]\n",
    "print('Maior valor: ', max(lst))\n",
    "print('Menor valor: ', min(lst))\n",
    "print('Soma: ', sum(lst))\n",
    "print('Arredondamento: ', round(2.34567,))"
   ]
  },
  {
   "cell_type": "code",
   "execution_count": 11,
   "id": "fd961481",
   "metadata": {},
   "outputs": [
    {
     "name": "stdout",
     "output_type": "stream",
     "text": [
      "Media: 21.6\n",
      "Mediana: 30\n",
      "Moda: 30\n"
     ]
    }
   ],
   "source": [
    "# Funções estatisticas\n",
    "from statistics import *\n",
    "print('Media:', mean(lst))\n",
    "print('Mediana:', median(lst))\n",
    "print('Moda:', mode(lst))"
   ]
  },
  {
   "cell_type": "code",
   "execution_count": 12,
   "id": "4e5e77ac",
   "metadata": {},
   "outputs": [
    {
     "name": "stdout",
     "output_type": "stream",
     "text": [
      "Desvio padrão:  19.346834366376324\n"
     ]
    }
   ],
   "source": [
    "# Desvio padrão da amostra\n",
    "print('Desvio padrão: ', stdev(lst))"
   ]
  },
  {
   "cell_type": "code",
   "execution_count": 13,
   "id": "57e61da3",
   "metadata": {},
   "outputs": [
    {
     "name": "stdout",
     "output_type": "stream",
     "text": [
      "Variancia:  374.3\n"
     ]
    }
   ],
   "source": [
    "# Variancia da amostra\n",
    "print('Variancia: ', variance(lst))"
   ]
  },
  {
   "cell_type": "code",
   "execution_count": 16,
   "id": "1bdce1c9",
   "metadata": {},
   "outputs": [
    {
     "name": "stdout",
     "output_type": "stream",
     "text": [
      "<class 'numpy.ndarray'>\n",
      "[[0.25930899 0.48708221 0.49933084 0.79818091 0.59092123 0.26285924\n",
      "  0.62649296 0.64860913]\n",
      " [0.47847705 0.87002777 0.42775354 0.76274597 0.00120614 0.90819771\n",
      "  0.89186501 0.4361853 ]\n",
      " [0.2941956  0.9389593  0.38153869 0.05864955 0.22668135 0.04479878\n",
      "  0.5307217  0.26868762]\n",
      " [0.2474649  0.94346209 0.96690565 0.80251289 0.34881215 0.96763529\n",
      "  0.66429839 0.43074202]\n",
      " [0.46719395 0.7014345  0.93903736 0.81153476 0.31436257 0.13542633\n",
      "  0.73997192 0.38185206]\n",
      " [0.29032079 0.58781498 0.57431674 0.51235321 0.43602033 0.28549786\n",
      "  0.72948048 0.82160026]\n",
      " [0.87123652 0.79884981 0.52486581 0.54831998 0.87900326 0.45572393\n",
      "  0.75715101 0.79402654]\n",
      " [0.80923568 0.20291161 0.83983796 0.91879746 0.30362392 0.23573588\n",
      "  0.68978124 0.7724383 ]]\n"
     ]
    }
   ],
   "source": [
    "# Gera matriz 8x8 de numeros aleatórios\n",
    "from numpy import *\n",
    "a = random.random((8,8))\n",
    "print(type(a))\n",
    "print(a)"
   ]
  },
  {
   "cell_type": "code",
   "execution_count": null,
   "id": "ee12f13f",
   "metadata": {},
   "outputs": [],
   "source": []
  }
 ],
 "metadata": {
  "kernelspec": {
   "display_name": "Python 3 (ipykernel)",
   "language": "python",
   "name": "python3"
  },
  "language_info": {
   "codemirror_mode": {
    "name": "ipython",
    "version": 3
   },
   "file_extension": ".py",
   "mimetype": "text/x-python",
   "name": "python",
   "nbconvert_exporter": "python",
   "pygments_lexer": "ipython3",
   "version": "3.9.13"
  },
  "varInspector": {
   "cols": {
    "lenName": 16,
    "lenType": 16,
    "lenVar": 40
   },
   "kernels_config": {
    "python": {
     "delete_cmd_postfix": "",
     "delete_cmd_prefix": "del ",
     "library": "var_list.py",
     "varRefreshCmd": "print(var_dic_list())"
    },
    "r": {
     "delete_cmd_postfix": ") ",
     "delete_cmd_prefix": "rm(",
     "library": "var_list.r",
     "varRefreshCmd": "cat(var_dic_list()) "
    }
   },
   "types_to_exclude": [
    "module",
    "function",
    "builtin_function_or_method",
    "instance",
    "_Feature"
   ],
   "window_display": false
  }
 },
 "nbformat": 4,
 "nbformat_minor": 5
}
